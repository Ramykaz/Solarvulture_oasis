{
 "cells": [
  {
   "cell_type": "code",
   "execution_count": null,
   "id": "2cc05dca",
   "metadata": {},
   "outputs": [],
   "source": [
    "#This Model detects the 5 main fault classes\n",
    "#yet the model is not effective enough as the count of data in each class is very low\n",
    "# Load files from Roboflow\n",
    "!pip install roboflow   #version1\n",
    "\n",
    "from roboflow import Roboflow\n",
    "rf = Roboflow(api_key=\"TYCxQVZrrdnE0E1tmaSw\")\n",
    "project = rf.workspace(\"sa-tvpln\").project(\"solar-panel-defects-2-4jxv5\")\n",
    "version = project.version(1)\n",
    "dataset = version.download(\"yolov8\")"
   ]
  },
  {
   "cell_type": "code",
   "execution_count": null,
   "id": "caba57b3",
   "metadata": {},
   "outputs": [],
   "source": [
    "# Basic Model Training\n",
    "!pip install ultralytics\n",
    "from ultralytics import YOLO\n",
    "\n",
    "# Load the base model\n",
    "model = YOLO(\"yolov8m.pt\")\n",
    "\n",
    "# Set correct dataset path\n",
    "dataset_path = \"/content/Solar-Panel-Defects-2-1/data.yaml\"\n",
    "\n",
    "# Train\n",
    "model.train(\n",
    "    data=dataset_path,\n",
    "    epochs=100,\n",
    "    imgsz=640,\n",
    "    batch=-1,\n",
    "    name=\"solar_defect_detector\",\n",
    "    patience=10\n",
    "\n",
    ")\n"
   ]
  }
 ],
 "metadata": {
  "language_info": {
   "name": "python"
  }
 },
 "nbformat": 4,
 "nbformat_minor": 5
}
