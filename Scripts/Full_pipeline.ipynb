{
 "cells": [
  {
   "cell_type": "code",
   "execution_count": null,
   "id": "e262e50e",
   "metadata": {},
   "outputs": [],
   "source": [
    "#Step 1 Preprocessing\n",
    "\n",
    "import os\n",
    "import cv2\n",
    "import matplotlib.pyplot as plt\n",
    "!pip install ultralytics\n",
    "from ultralytics import YOLO\n",
    "\n",
    "# Define paths\n",
    "binary_detector_path = \"/content/binary defect v3.pt\"     # binary defective/non-defective YOLOv8 model\n",
    "classifier_path = \"/content/fault_classifier 11.pt\"          # classifier model (multi-class)\n",
    "input_image_path = \"/content/images (1).jpeg\"                #full pane;\n",
    "\n",
    "# Prepare directories\n",
    "os.makedirs(\"cell_crops\", exist_ok=True)\n",
    "\n",
    "# Load and preprocess the image\n",
    "original = cv2.imread(input_image_path)\n",
    "if original is None:\n",
    "    raise ValueError(\"Image not found at provided path!\")\n",
    "\n",
    "gray = cv2.cvtColor(original, cv2.COLOR_BGR2GRAY)\n",
    "cv2.imwrite(\"gray_input.jpg\", gray)  \n",
    "\n"
   ]
  },
  {
   "cell_type": "code",
   "execution_count": null,
   "id": "6d94140f",
   "metadata": {},
   "outputs": [],
   "source": [
    "#Step 2 : Defective Model\n",
    "\n",
    "# Detect defective cells using binary detector\n",
    "print(\"🔍 Detecting *defective* cells using binary model...\")\n",
    "binary_model = YOLO(binary_detector_path)\n",
    "binary_results = binary_model(\"gray_input.jpg\")[0]\n"
   ]
  },
  {
   "cell_type": "code",
   "execution_count": null,
   "id": "25f061b9",
   "metadata": {},
   "outputs": [],
   "source": [
    "#Step 3: resizing defective models\n",
    "print(\"✂️  Cropping detected defective cells...\")\n",
    "cell_crops = []\n",
    "coords = []\n",
    "\n",
    "for i, box in enumerate(binary_results.boxes.xyxy):\n",
    "    cls = int(binary_results.boxes.cls[i].item())\n",
    "    label = binary_results.names[cls]\n",
    "\n",
    "    # Only keep 'Defective' cells (if 1 = defective, 0 = non-defective)\n",
    "    if \"defect\" in label.lower() or cls == 1:\n",
    "        x1, y1, x2, y2 = map(int, box)\n",
    "        crop = gray[y1:y2, x1:x2]\n",
    "        resized_crop = cv2.resize(crop, (224, 224))\n",
    "        crop_path = f\"cell_crops/cell_{i}.jpg\"\n",
    "        cv2.imwrite(crop_path, resized_crop)\n",
    "        cell_crops.append(crop_path)\n",
    "        coords.append((x1, y1, x2, y2))\n",
    "    else:\n",
    "        continue  # Skip non-defective cells\n"
   ]
  },
  {
   "cell_type": "code",
   "execution_count": null,
   "id": "3923d18f",
   "metadata": {},
   "outputs": [],
   "source": [
    "#Step 4 : Classifier Model\n",
    "# Classify each defective cell with the 11-class classifier\n",
    "print(\"🧠 Classifying defective cells...\")\n",
    "classifier = YOLO(classifier_path)\n",
    "predictions = []\n",
    "\n",
    "for crop_path in cell_crops:\n",
    "    pred_result = classifier.predict(crop_path, imgsz=224, verbose=False)[0]\n",
    "    class_name = pred_result.names[pred_result.probs.top1]\n",
    "    confidence = pred_result.probs.top1conf\n",
    "    predictions.append((class_name, confidence))\n",
    " "
   ]
  },
  {
   "cell_type": "code",
   "execution_count": null,
   "id": "48e92a98",
   "metadata": {},
   "outputs": [],
   "source": [
    "#Step 5: Annotating and saving outputs\n",
    "\n",
    "# Annotate the image with classification results\n",
    "print(\"🖍️ Annotating predictions on image...\")\n",
    "annotated = original.copy()\n",
    "for (x1, y1, x2, y2), (label, conf) in zip(coords, predictions):\n",
    "    color = (0, 255, 0) if \"no\" in label.lower() else (0, 0, 255)\n",
    "    cv2.rectangle(annotated, (x1, y1), (x2, y2), color, 2)\n",
    "    cv2.putText(annotated, f\"{label} ({conf:.2f})\", (x1, y1 - 10),\n",
    "                cv2.FONT_HERSHEY_SIMPLEX, 0.4, color, 1)\n",
    "\n",
    "# Save and display results\n",
    "output_path = \"annotated_output.jpg\"\n",
    "cv2.imwrite(output_path, annotated)\n",
    "\n",
    "plt.figure(figsize=(12, 12))\n",
    "plt.imshow(cv2.cvtColor(annotated, cv2.COLOR_BGR2RGB))\n",
    "plt.axis('off')\n",
    "plt.title(\"Defective Cells with Fault Type\")\n",
    "plt.show()\n",
    "\n",
    "print(\"✅ Pipeline complete! Final output saved to:\", output_path)"
   ]
  }
 ],
 "metadata": {
  "language_info": {
   "name": "python"
  }
 },
 "nbformat": 4,
 "nbformat_minor": 5
}
